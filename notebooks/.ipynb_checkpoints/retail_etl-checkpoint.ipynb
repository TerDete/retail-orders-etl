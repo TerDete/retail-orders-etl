{
 "cells": [
  {
   "cell_type": "markdown",
   "id": "ecda7992-fb95-4f9a-bc22-e51195087d51",
   "metadata": {},
   "source": [
    "Retail Orders ETL Pipeline"
   ]
  },
  {
   "cell_type": "code",
   "execution_count": 4,
   "id": "e514dbfa-0db4-4b6e-9d8a-544278806ee3",
   "metadata": {},
   "outputs": [],
   "source": [
    "import findspark\n",
    "findspark.init(\"/home/hadup/spark\")\n",
    "\n",
    "from pyspark.sql import SparkSession\n",
    "\n",
    "spark = SparkSession.builder \\\n",
    "    .appName(\"Retail Orders ETL\") \\\n",
    "    .getOrCreate()"
   ]
  },
  {
   "cell_type": "markdown",
   "id": "b3f653b1-6e26-4e03-a051-5e38b5a4f6c7",
   "metadata": {},
   "source": [
    "Extract"
   ]
  },
  {
   "cell_type": "code",
   "execution_count": 8,
   "id": "8c7469b8-1370-4b17-be8e-2b1099436fa5",
   "metadata": {},
   "outputs": [
    {
     "name": "stdout",
     "output_type": "stream",
     "text": [
      "+--------+----------+--------------+---------+-------------+---------------+----------+-----------+------+---------------+------------+---------------+----------+----------+--------+----------------+\n",
      "|Order Id|Order Date|     Ship Mode|  Segment|      Country|           City|     State|Postal Code|Region|       Category|Sub Category|     Product Id|cost price|List Price|Quantity|Discount Percent|\n",
      "+--------+----------+--------------+---------+-------------+---------------+----------+-----------+------+---------------+------------+---------------+----------+----------+--------+----------------+\n",
      "|       1|2023-03-01|  Second Class| Consumer|United States|      Henderson|  Kentucky|      42420| South|      Furniture|   Bookcases|FUR-BO-10001798|       240|       260|       2|               2|\n",
      "|       2|2023-08-15|  Second Class| Consumer|United States|      Henderson|  Kentucky|      42420| South|      Furniture|      Chairs|FUR-CH-10000454|       600|       730|       3|               3|\n",
      "|       3|2023-01-10|  Second Class|Corporate|United States|    Los Angeles|California|      90036|  West|Office Supplies|      Labels|OFF-LA-10000240|        10|        10|       2|               5|\n",
      "|       4|2022-06-18|Standard Class| Consumer|United States|Fort Lauderdale|   Florida|      33311| South|      Furniture|      Tables|FUR-TA-10000577|       780|       960|       5|               2|\n",
      "|       5|2022-07-13|Standard Class| Consumer|United States|Fort Lauderdale|   Florida|      33311| South|Office Supplies|     Storage|OFF-ST-10000760|        20|        20|       2|               5|\n",
      "+--------+----------+--------------+---------+-------------+---------------+----------+-----------+------+---------------+------------+---------------+----------+----------+--------+----------------+\n",
      "only showing top 5 rows\n",
      "\n"
     ]
    }
   ],
   "source": [
    "df = spark.read.option(\"header\", True).csv(\"hdfs://localhost:9000/user/hadup/retail_project/raw/orders.csv\")\n",
    "\n",
    "df.show(5)\n",
    "\n",
    "#df.printSchema()"
   ]
  },
  {
   "cell_type": "markdown",
   "id": "cd87ac80-715f-4376-8bbe-4ffcb80c41c8",
   "metadata": {},
   "source": [
    "Transform"
   ]
  },
  {
   "cell_type": "code",
   "execution_count": 11,
   "id": "1637ef3d-3647-4d93-88a2-6a8b30a33097",
   "metadata": {},
   "outputs": [
    {
     "name": "stdout",
     "output_type": "stream",
     "text": [
      "+--------+----------+---------------+----------+------+---------------+------------+---------------+----------+----------+--------+----------------+\n",
      "|Order Id|Order Date|           City|     State|Region|       Category|Sub Category|     Product Id|cost price|List Price|Quantity|Discount Percent|\n",
      "+--------+----------+---------------+----------+------+---------------+------------+---------------+----------+----------+--------+----------------+\n",
      "|       1|2023-03-01|      Henderson|  Kentucky| South|      Furniture|   Bookcases|FUR-BO-10001798|       240|       260|       2|               2|\n",
      "|       2|2023-08-15|      Henderson|  Kentucky| South|      Furniture|      Chairs|FUR-CH-10000454|       600|       730|       3|               3|\n",
      "|       3|2023-01-10|    Los Angeles|California|  West|Office Supplies|      Labels|OFF-LA-10000240|        10|        10|       2|               5|\n",
      "|       4|2022-06-18|Fort Lauderdale|   Florida| South|      Furniture|      Tables|FUR-TA-10000577|       780|       960|       5|               2|\n",
      "|       5|2022-07-13|Fort Lauderdale|   Florida| South|Office Supplies|     Storage|OFF-ST-10000760|        20|        20|       2|               5|\n",
      "+--------+----------+---------------+----------+------+---------------+------------+---------------+----------+----------+--------+----------------+\n",
      "only showing top 5 rows\n",
      "\n",
      "root\n",
      " |-- Order Id: string (nullable = true)\n",
      " |-- Order Date: string (nullable = true)\n",
      " |-- City: string (nullable = true)\n",
      " |-- State: string (nullable = true)\n",
      " |-- Region: string (nullable = true)\n",
      " |-- Category: string (nullable = true)\n",
      " |-- Sub Category: string (nullable = true)\n",
      " |-- Product Id: string (nullable = true)\n",
      " |-- cost price: string (nullable = true)\n",
      " |-- List Price: string (nullable = true)\n",
      " |-- Quantity: string (nullable = true)\n",
      " |-- Discount Percent: string (nullable = true)\n",
      "\n"
     ]
    }
   ],
   "source": [
    "df = df.drop(\"Ship Mode\", \"Segment\", \"Country\", \"Postal Code\")\n",
    "\n",
    "df.show(5)\n",
    "\n",
    "df.printSchema()"
   ]
  },
  {
   "cell_type": "code",
   "execution_count": 13,
   "id": "bc7b3b97-ea79-4dfa-8384-f4437a049fb7",
   "metadata": {},
   "outputs": [
    {
     "name": "stdout",
     "output_type": "stream",
     "text": [
      "+--------+----------+----+-----+------+--------+------------+----------+----------+----------+--------+----------------+\n",
      "|Order Id|Order Date|City|State|Region|Category|Sub Category|Product Id|cost price|List Price|Quantity|Discount Percent|\n",
      "+--------+----------+----+-----+------+--------+------------+----------+----------+----------+--------+----------------+\n",
      "|       0|         0|   0|    0|     0|       0|           0|         0|         0|         0|       0|               0|\n",
      "+--------+----------+----+-----+------+--------+------------+----------+----------+----------+--------+----------------+\n",
      "\n"
     ]
    }
   ],
   "source": [
    "from pyspark.sql.functions import col, isnan, when, count\n",
    "\n",
    "df.select([count(when(col(c).isNull() | isnan(c), c)).alias(c) for c in df.columns]).show()"
   ]
  },
  {
   "cell_type": "code",
   "execution_count": 16,
   "id": "df8ae467-97fa-4b89-8a18-7e3bfaf76bf1",
   "metadata": {},
   "outputs": [
    {
     "name": "stdout",
     "output_type": "stream",
     "text": [
      "root\n",
      " |-- Order Id: integer (nullable = true)\n",
      " |-- Order Date: date (nullable = true)\n",
      " |-- City: string (nullable = true)\n",
      " |-- State: string (nullable = true)\n",
      " |-- Region: string (nullable = true)\n",
      " |-- Category: string (nullable = true)\n",
      " |-- Sub Category: string (nullable = true)\n",
      " |-- Product Id: string (nullable = true)\n",
      " |-- cost price: double (nullable = true)\n",
      " |-- List Price: double (nullable = true)\n",
      " |-- Quantity: integer (nullable = true)\n",
      " |-- Discount Percent: float (nullable = true)\n",
      "\n"
     ]
    }
   ],
   "source": [
    "from pyspark.sql.types import DoubleType, IntegerType, FloatType, DateType\n",
    "\n",
    "df = df.withColumn(\"Order Id\", col(\"Order Id\").cast(IntegerType())) \\\n",
    "        .withColumn(\"cost price\", col(\"cost price\").cast(DoubleType())) \\\n",
    "        .withColumn(\"List Price\", col(\"List Price\").cast(DoubleType())) \\\n",
    "        .withColumn(\"Quantity\", col(\"Quantity\").cast(IntegerType())) \\\n",
    "        .withColumn(\"Discount Percent\", col(\"Discount Percent\").cast(FloatType())) \\\n",
    "        .withColumn(\"Order Date\", col(\"Order Date\").cast(DateType())) \n",
    "\n",
    "df.printSchema()"
   ]
  },
  {
   "cell_type": "code",
   "execution_count": 23,
   "id": "9c83a460-402b-409d-af9e-d9b8326fed41",
   "metadata": {},
   "outputs": [
    {
     "name": "stdout",
     "output_type": "stream",
     "text": [
      "+---------------+----------+----------+------+--------+-------+\n",
      "|     Product Id|List Price|cost price|Profit|Quantity|Revenue|\n",
      "+---------------+----------+----------+------+--------+-------+\n",
      "|FUR-BO-10001798|     260.0|     240.0|  20.0|       2|   40.0|\n",
      "|FUR-CH-10000454|     730.0|     600.0| 130.0|       3|  390.0|\n",
      "|OFF-LA-10000240|      10.0|      10.0|   0.0|       2|    0.0|\n",
      "|FUR-TA-10000577|     960.0|     780.0| 180.0|       5|  900.0|\n",
      "|OFF-ST-10000760|      20.0|      20.0|   0.0|       2|    0.0|\n",
      "+---------------+----------+----------+------+--------+-------+\n",
      "only showing top 5 rows\n",
      "\n"
     ]
    }
   ],
   "source": [
    "df = df.withColumn(\"Profit\", col(\"List Price\") - col(\"cost price\"))\n",
    "\n",
    "df = df.withColumn(\"Revenue\", col(\"Profit\") * col(\"Quantity\"))\n",
    "\n",
    "df.select(\"Product Id\", \"List Price\", \"cost price\", \"Profit\", \"Quantity\", \"Revenue\").show(5)"
   ]
  },
  {
   "cell_type": "code",
   "execution_count": 24,
   "id": "d39534ce-f092-4689-ac01-cf99f3722bb2",
   "metadata": {},
   "outputs": [
    {
     "name": "stdout",
     "output_type": "stream",
     "text": [
      "+--------+----------+---------------+----------+------+---------------+------------+---------------+----------+----------+--------+----------------+------+-------+\n",
      "|Order Id|Order Date|           City|     State|Region|       Category|Sub Category|     Product Id|cost price|List Price|Quantity|Discount Percent|Profit|Revenue|\n",
      "+--------+----------+---------------+----------+------+---------------+------------+---------------+----------+----------+--------+----------------+------+-------+\n",
      "|       1|2023-03-01|      Henderson|  Kentucky| South|      Furniture|   Bookcases|FUR-BO-10001798|     240.0|     260.0|       2|             2.0|  20.0|   40.0|\n",
      "|       2|2023-08-15|      Henderson|  Kentucky| South|      Furniture|      Chairs|FUR-CH-10000454|     600.0|     730.0|       3|             3.0| 130.0|  390.0|\n",
      "|       3|2023-01-10|    Los Angeles|California|  West|Office Supplies|      Labels|OFF-LA-10000240|      10.0|      10.0|       2|             5.0|   0.0|    0.0|\n",
      "|       4|2022-06-18|Fort Lauderdale|   Florida| South|      Furniture|      Tables|FUR-TA-10000577|     780.0|     960.0|       5|             2.0| 180.0|  900.0|\n",
      "|       5|2022-07-13|Fort Lauderdale|   Florida| South|Office Supplies|     Storage|OFF-ST-10000760|      20.0|      20.0|       2|             5.0|   0.0|    0.0|\n",
      "+--------+----------+---------------+----------+------+---------------+------------+---------------+----------+----------+--------+----------------+------+-------+\n",
      "only showing top 5 rows\n",
      "\n"
     ]
    }
   ],
   "source": [
    "df.show(5)"
   ]
  }
 ],
 "metadata": {
  "kernelspec": {
   "display_name": "Python 3 (ipykernel)",
   "language": "python",
   "name": "python3"
  },
  "language_info": {
   "codemirror_mode": {
    "name": "ipython",
    "version": 3
   },
   "file_extension": ".py",
   "mimetype": "text/x-python",
   "name": "python",
   "nbconvert_exporter": "python",
   "pygments_lexer": "ipython3",
   "version": "3.10.12"
  }
 },
 "nbformat": 4,
 "nbformat_minor": 5
}
